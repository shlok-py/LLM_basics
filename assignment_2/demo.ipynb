{
 "cells": [
  {
   "cell_type": "code",
   "execution_count": 1,
   "metadata": {},
   "outputs": [],
   "source": [
    "train_path = 'data/archive (4)/train.csv'\n",
    "valid_path = 'data/archive (4)/valid.csv'"
   ]
  },
  {
   "cell_type": "code",
   "execution_count": 2,
   "metadata": {},
   "outputs": [
    {
     "name": "stderr",
     "output_type": "stream",
     "text": [
      "c:\\Users\\TCS\\anaconda3\\envs\\newtorchenv\\Lib\\site-packages\\tqdm\\auto.py:21: TqdmWarning: IProgress not found. Please update jupyter and ipywidgets. See https://ipywidgets.readthedocs.io/en/stable/user_install.html\n",
      "  from .autonotebook import tqdm as notebook_tqdm\n"
     ]
    }
   ],
   "source": [
    "import pandas as pd\n",
    "from sklearn.preprocessing import LabelEncoder\n",
    "from transformers import AutoTokenizer\n",
    "import torch.nn as nn\n",
    "import torch.nn.functional as F\n",
    "\n",
    "# Load dataset\n",
    "data = pd.read_csv(train_path)  \n",
    "texts = data['paras'].fillna(\"\").tolist()\n",
    "labels = data['label'].tolist()\n",
    "\n",
    "# Encode labels\n",
    "label_encoder = LabelEncoder()\n",
    "labels = label_encoder.fit_transform(labels)\n",
    "\n",
    "# Load dataset\n",
    "valid_data = pd.read_csv(train_path)  \n",
    "valid_texts = valid_data['paras'].fillna(\"\").tolist()\n",
    "valid_labels = valid_data['label'].tolist()\n",
    "\n",
    "#Encode valid labels\n",
    "valid_label_encoder = LabelEncoder()\n",
    "valid_labels = valid_label_encoder.fit_transform(labels)\n",
    "# Initialize tokenizer (Use a model that supports Nepali, like multilingual BERT)\n",
    "tokenizer = AutoTokenizer.from_pretrained(\"bert-base-multilingual-cased\")\n"
   ]
  },
  {
   "cell_type": "code",
   "execution_count": 3,
   "metadata": {},
   "outputs": [
    {
     "data": {
      "text/plain": [
       "3"
      ]
     },
     "execution_count": 3,
     "metadata": {},
     "output_type": "execute_result"
    }
   ],
   "source": [
    "len(label_encoder.classes_)"
   ]
  },
  {
   "cell_type": "code",
   "execution_count": 4,
   "metadata": {},
   "outputs": [
    {
     "data": {
      "text/plain": [
       "['label_encoder.pkl']"
      ]
     },
     "execution_count": 4,
     "metadata": {},
     "output_type": "execute_result"
    }
   ],
   "source": [
    "import joblib\n",
    "joblib.dump(label_encoder, \"label_encoder.pkl\")"
   ]
  },
  {
   "cell_type": "code",
   "execution_count": 5,
   "metadata": {},
   "outputs": [],
   "source": [
    "import torch\n",
    "from torch.utils.data import Dataset, DataLoader\n",
    "\n",
    "# Custom Dataset class\n",
    "class NepaliNewsDataset(Dataset):\n",
    "    def __init__(self, texts, labels, tokenizer, max_len=256):\n",
    "        self.texts = texts\n",
    "        self.labels = labels\n",
    "        self.tokenizer = tokenizer\n",
    "        self.max_len = max_len\n",
    "\n",
    "    def __len__(self):\n",
    "        return len(self.texts)\n",
    "\n",
    "    def __getitem__(self, idx):\n",
    "        text = self.texts[idx]\n",
    "        label = self.labels[idx]\n",
    "        encoding = self.tokenizer(\n",
    "            text,\n",
    "            max_length=self.max_len,\n",
    "            padding=\"max_length\",\n",
    "            truncation=True,\n",
    "            return_tensors=\"pt\",\n",
    "        )\n",
    "        return {\n",
    "            \"input_ids\": encoding[\"input_ids\"].squeeze(0),\n",
    "            \"attention_mask\": encoding[\"attention_mask\"].squeeze(0),\n",
    "            \"label\": torch.tensor(label, dtype=torch.long),\n",
    "        }\n",
    "\n",
    "# Create Datasets and DataLoaders\n",
    "train_dataset = NepaliNewsDataset(texts, labels, tokenizer)\n",
    "val_dataset = NepaliNewsDataset(valid_texts, valid_labels, tokenizer)\n",
    "\n",
    "train_loader = DataLoader(train_dataset, batch_size=16, shuffle=True)\n",
    "val_loader = DataLoader(val_dataset, batch_size=16, shuffle=False)\n"
   ]
  },
  {
   "cell_type": "code",
   "execution_count": 8,
   "metadata": {},
   "outputs": [],
   "source": [
    "class TransformerEncoderLayer(nn.Module):\n",
    "    def __init__(self, embed_size, num_heads, ff_size, dropout=0.1):\n",
    "        super(TransformerEncoderLayer, self).__init__()\n",
    "        self.attention = nn.MultiheadAttention(embed_size, num_heads, dropout=dropout)\n",
    "        self.ffn = nn.Sequential(\n",
    "            nn.Linear(embed_size, ff_size),\n",
    "            nn.ReLU(),\n",
    "            nn.Linear(ff_size, embed_size)\n",
    "        )\n",
    "        self.norm1 = nn.LayerNorm(embed_size)\n",
    "        self.norm2 = nn.LayerNorm(embed_size)\n",
    "        self.dropout = nn.Dropout(dropout)\n",
    "\n",
    "    def forward(self, x):\n",
    "        # Multi-head attention\n",
    "        attn_output, _ = self.attention(x, x, x)\n",
    "        x = self.norm1(x + self.dropout(attn_output))\n",
    "\n",
    "        # Feed-forward layer\n",
    "        ffn_output = self.ffn(x)\n",
    "        x = self.norm2(x + self.dropout(ffn_output))\n",
    "        \n",
    "        return x\n",
    "\n",
    "\n",
    "class CustomTransformerEncoder(nn.Module):\n",
    "    def __init__(self, vocab_size, embed_size=768, num_heads=8, num_layers=6, ff_size=2048, max_len=512):\n",
    "        super(CustomTransformerEncoder, self).__init__()\n",
    "        \n",
    "        # Token embedding layer\n",
    "        self.embedding = nn.Embedding(vocab_size, embed_size)\n",
    "        \n",
    "        # Positional encoding\n",
    "        self.positional_encoding = nn.Parameter(torch.zeros(1, max_len, embed_size))\n",
    "        \n",
    "        # Transformer encoder layers\n",
    "        self.layers = nn.ModuleList([\n",
    "            TransformerEncoderLayer(embed_size, num_heads, ff_size) for _ in range(num_layers)\n",
    "        ])\n",
    "        \n",
    "    def forward(self, input_ids):\n",
    "        # Token embeddings\n",
    "        token_embeddings = self.embedding(input_ids)\n",
    "        \n",
    "        # Add positional encoding\n",
    "        seq_len = input_ids.size(1)\n",
    "        embeddings_with_pos = token_embeddings + self.positional_encoding[:, :seq_len, :]\n",
    "        \n",
    "        # Pass through the transformer layers\n",
    "        x = embeddings_with_pos.transpose(0, 1)  # Transpose for multihead attention (seq_len, batch_size, embed_size)\n",
    "        for layer in self.layers:\n",
    "            x = layer(x)\n",
    "        \n",
    "        return x.transpose(0, 1)  # Transpose back to (batch_size, seq_len, embed_size)\n"
   ]
  },
  {
   "cell_type": "code",
   "execution_count": 9,
   "metadata": {},
   "outputs": [],
   "source": [
    "class CustomTransformerClassifier(nn.Module):\n",
    "    def __init__(self, vocab_size, num_classes=2, embed_size=768, num_heads=8, num_layers=6, ff_size=2048, max_len=512):\n",
    "        super(CustomTransformerClassifier, self).__init__()\n",
    "        \n",
    "        # Custom Transformer Encoder\n",
    "        self.encoder = CustomTransformerEncoder(vocab_size, embed_size, num_heads, num_layers, ff_size, max_len)\n",
    "        \n",
    "        # Classification head\n",
    "        self.fc = nn.Linear(embed_size, num_classes)\n",
    "        \n",
    "        # Dropout for regularization\n",
    "        self.dropout = nn.Dropout(0.3)\n",
    "\n",
    "    def forward(self, input_ids):\n",
    "        # Pass the input through the encoder\n",
    "        encoder_output = self.encoder(input_ids)\n",
    "        \n",
    "        # Use the output of the [CLS] token (first token) for classification\n",
    "        cls_output = encoder_output[:, 0, :]\n",
    "        \n",
    "        # Dropout for regularization\n",
    "        cls_output = self.dropout(cls_output)\n",
    "        \n",
    "        # Final classification layer\n",
    "        logits = self.fc(cls_output)\n",
    "        \n",
    "        return logits\n",
    "model = CustomTransformerClassifier(vocab_size=len(tokenizer), num_classes= len(label_encoder.classes_))\n"
   ]
  },
  {
   "cell_type": "code",
   "execution_count": 12,
   "metadata": {},
   "outputs": [
    {
     "name": "stdout",
     "output_type": "stream",
     "text": [
      "Epoch 1, Loss: 0.1765\n",
      "Epoch 2, Loss: 0.1230\n",
      "Epoch 3, Loss: 0.1113\n"
     ]
    }
   ],
   "source": [
    "import torch.optim as optim\n",
    "from sklearn.metrics import accuracy_score\n",
    "\n",
    "# Training setup\n",
    "device = torch.device(\"cuda\" if torch.cuda.is_available() else \"cpu\")\n",
    "model.to(device)\n",
    "criterion = nn.CrossEntropyLoss()\n",
    "optimizer = optim.Adam(model.parameters(), lr=2e-5)\n",
    "\n",
    "model.train()\n",
    "losses=[]\n",
    "# Training loop\n",
    "for epoch in range(3):  # Adjust epochs as needed\n",
    "    total_loss = 0\n",
    "    for batch in train_loader:\n",
    "        optimizer.zero_grad()\n",
    "\n",
    "        input_ids = batch[\"input_ids\"].to(device)\n",
    "        # attention_mask = batch[\"attention_mask\"].to(device)\n",
    "        labels = batch[\"label\"].to(device)\n",
    "\n",
    "        outputs = model(input_ids)\n",
    "\n",
    "        loss = criterion(outputs, labels)\n",
    "        total_loss += loss.item()\n",
    "\n",
    "        loss.backward()\n",
    "        optimizer.step()\n",
    "    avg_loss = total_loss / len(train_loader)\n",
    "    losses.append(avg_loss)\n",
    "    print(f\"Epoch {epoch + 1}, Loss: {avg_loss:.4f}\")\n"
   ]
  },
  {
   "cell_type": "code",
   "execution_count": 14,
   "metadata": {},
   "outputs": [
    {
     "name": "stdout",
     "output_type": "stream",
     "text": [
      "Install torchinfo for a detailed model summary (pip install torchinfo).\n",
      "CustomTransformerClassifier(\n",
      "  (encoder): CustomTransformerEncoder(\n",
      "    (embedding): Embedding(119547, 768)\n",
      "    (layers): ModuleList(\n",
      "      (0-5): 6 x TransformerEncoderLayer(\n",
      "        (attention): MultiheadAttention(\n",
      "          (out_proj): NonDynamicallyQuantizableLinear(in_features=768, out_features=768, bias=True)\n",
      "        )\n",
      "        (ffn): Sequential(\n",
      "          (0): Linear(in_features=768, out_features=2048, bias=True)\n",
      "          (1): ReLU()\n",
      "          (2): Linear(in_features=2048, out_features=768, bias=True)\n",
      "        )\n",
      "        (norm1): LayerNorm((768,), eps=1e-05, elementwise_affine=True)\n",
      "        (norm2): LayerNorm((768,), eps=1e-05, elementwise_affine=True)\n",
      "        (dropout): Dropout(p=0.1, inplace=False)\n",
      "      )\n",
      "    )\n",
      "  )\n",
      "  (fc): Linear(in_features=768, out_features=3, bias=True)\n",
      "  (dropout): Dropout(p=0.3, inplace=False)\n",
      ")\n"
     ]
    },
    {
     "data": {
      "image/png": "[encoded data removed]",
      "text/plain": [
       "<Figure size 600x400 with 1 Axes>"
      ]
     },
     "metadata": {},
     "output_type": "display_data"
    }
   ],
   "source": [
    "import torch\n",
    "import matplotlib.pyplot as plt\n",
    "\n",
    "# Visualize the model architecture using torchinfo (if available)\n",
    "try:\n",
    "    from torchinfo import summary\n",
    "    print(\"Model Summary:\")\n",
    "    summary(model, input_size=(1, 128), col_names=[\"input_size\", \"output_size\", \"num_params\"])\n",
    "except ImportError:\n",
    "    print(\"Install torchinfo for a detailed model summary (pip install torchinfo).\")\n",
    "    print(model)\n",
    "\n",
    "# Optionally, visualize training loss curve if available\n",
    "if 'total_loss' in locals():\n",
    "    # If you have stored loss per epoch, plot it\n",
    "    if isinstance(losses, list):\n",
    "        plt.figure(figsize=(6,4))\n",
    "        plt.plot(losses, marker='o')\n",
    "        plt.title(\"Training Loss Curve\")\n",
    "        plt.xlabel(\"Epoch\")\n",
    "        plt.ylabel(\"Loss\")\n",
    "        plt.show()\n"
   ]
  },
  {
   "cell_type": "code",
   "execution_count": 7,
   "metadata": {},
   "outputs": [],
   "source": [
    "torch.save(model.state_dict(), \"model.pth\")"
   ]
  },
  {
   "cell_type": "code",
   "execution_count": 8,
   "metadata": {},
   "outputs": [
    {
     "name": "stdout",
     "output_type": "stream",
     "text": [
      "Validation Accuracy: 0.96\n"
     ]
    }
   ],
   "source": [
    "# Evaluation\n",
    "model.eval()\n",
    "predictions, ground_truth = [], []\n",
    "correct = 0\n",
    "total = 0\n",
    "\n",
    "with torch.no_grad():\n",
    "    for batch in val_loader:\n",
    "        input_ids = batch[\"input_ids\"].to(device)\n",
    "        # attention_mask = batch[\"attention_mask\"].to(device)\n",
    "        labels = batch[\"label\"].to(device)\n",
    "\n",
    "        outputs = model(input_ids)\n",
    "        preds = torch.argmax(outputs, dim=1)\n",
    "        predictions.extend(preds.cpu().numpy())\n",
    "        ground_truth.extend(labels.cpu().numpy())\n",
    "        # _, predicted = torch.max(outputs, 1)  # Get predicted class\n",
    "\n",
    "        # total += labels.size(0)\n",
    "        # correct += (predicted == labels).sum().item()\n",
    "\n",
    "accuracy = accuracy_score(ground_truth, predictions)\n",
    "print(f\"Validation Accuracy: {accuracy:.2f}\")\n"
   ]
  },
  {
   "cell_type": "code",
   "execution_count": 9,
   "metadata": {},
   "outputs": [],
   "source": [
    "\n",
    "test_path = \"data/archive (4)/test.csv\"\n",
    "# Load test data\n",
    "test_data = pd.read_csv(test_path)  # Replace with your test dataset path\n",
    "test_texts = test_data['paras'].fillna(\"\").tolist()\n",
    "test_labels = label_encoder.transform(test_data['label'].tolist())  # Ensure labels are encoded similarly\n",
    "\n",
    "# Prepare test dataset\n",
    "test_dataset = NepaliNewsDataset(test_texts, test_labels, tokenizer)\n",
    "test_loader = DataLoader(test_dataset, batch_size=16, shuffle=False)\n"
   ]
  },
  {
   "cell_type": "code",
   "execution_count": 10,
   "metadata": {},
   "outputs": [],
   "source": [
    "model.eval()  # Set model to evaluation mode\n",
    "device = torch.device(\"cuda\" if torch.cuda.is_available() else \"cpu\")\n",
    "\n",
    "predictions, ground_truth = [], []\n",
    "\n",
    "with torch.no_grad():\n",
    "    for batch in test_loader:\n",
    "        input_ids = batch[\"input_ids\"].to(device)\n",
    "        # attention_mask = batch[\"attention_mask\"].to(device)\n",
    "        labels = batch[\"label\"].to(device)\n",
    "\n",
    "        # Forward pass\n",
    "        outputs = model(input_ids)\n",
    "        preds = torch.argmax(outputs, dim=1)\n",
    "\n",
    "        # Collect predictions and ground truth\n",
    "        predictions.extend(preds.cpu().numpy())\n",
    "        ground_truth.extend(labels.cpu().numpy())\n"
   ]
  },
  {
   "cell_type": "code",
   "execution_count": 11,
   "metadata": {},
   "outputs": [
    {
     "name": "stdout",
     "output_type": "stream",
     "text": [
      "Test Accuracy: 0.96\n",
      "\n",
      "Classification Report:\n",
      "                precision    recall  f1-score   support\n",
      "\n",
      "     business       0.95      0.96      0.96       539\n",
      "entertainment       0.95      0.94      0.94       466\n",
      "       sports       0.98      0.98      0.98       491\n",
      "\n",
      "     accuracy                           0.96      1496\n",
      "    macro avg       0.96      0.96      0.96      1496\n",
      " weighted avg       0.96      0.96      0.96      1496\n",
      "\n"
     ]
    }
   ],
   "source": [
    "from sklearn.metrics import accuracy_score, classification_report\n",
    "\n",
    "# Calculate Accuracy\n",
    "accuracy = accuracy_score(ground_truth, predictions)\n",
    "print(f\"Test Accuracy: {accuracy:.2f}\")\n",
    "\n",
    "# Detailed Classification Report\n",
    "report = classification_report(ground_truth, predictions, target_names=label_encoder.classes_)\n",
    "print(\"\\nClassification Report:\\n\", report)\n"
   ]
  },
  {
   "cell_type": "code",
   "execution_count": 18,
   "metadata": {},
   "outputs": [
    {
     "name": "stdout",
     "output_type": "stream",
     "text": [
      "Predictions saved to 'test_predictions.csv'.\n"
     ]
    }
   ],
   "source": [
    "output_df = pd.DataFrame({\n",
    "    \"Text\": test_texts,\n",
    "    \"True Label\": label_encoder.inverse_transform(ground_truth),\n",
    "    \"Predicted Label\": label_encoder.inverse_transform(predictions)\n",
    "})\n",
    "output_df.to_csv(\"test_predictions.csv\", index=False)\n",
    "print(\"Predictions saved to 'test_predictions.csv'.\")\n"
   ]
  },
  {
   "cell_type": "code",
   "execution_count": null,
   "metadata": {},
   "outputs": [],
   "source": []
  }
 ],
 "metadata": {
  "kernelspec": {
   "display_name": "newtorchenv",
   "language": "python",
   "name": "python3"
  },
  "language_info": {
   "codemirror_mode": {
    "name": "ipython",
    "version": 3
   },
   "file_extension": ".py",
   "mimetype": "text/x-python",
   "name": "python",
   "nbconvert_exporter": "python",
   "pygments_lexer": "ipython3",
   "version": "3.12.3"
  }
 },
 "nbformat": 4,
 "nbformat_minor": 2
}
